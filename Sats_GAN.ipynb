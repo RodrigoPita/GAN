{
  "nbformat": 4,
  "nbformat_minor": 0,
  "metadata": {
    "colab": {
      "name": "Copy of Sats GAN.ipynb",
      "provenance": [],
      "collapsed_sections": [],
      "toc_visible": true
    },
    "kernelspec": {
      "name": "python3",
      "display_name": "Python 3"
    },
    "accelerator": "GPU"
  },
  "cells": [
    {
      "cell_type": "markdown",
      "metadata": {
        "id": "tY6G14TaJuyq"
      },
      "source": [
        "# Implementando os Modelos Simples e Convolucional"
      ]
    },
    {
      "cell_type": "code",
      "metadata": {
        "id": "CbWgAbakb0pm"
      },
      "source": [
        "# Drive\n",
        "from google.colab import drive\n",
        "drive.mount('/content/gdrive')"
      ],
      "execution_count": null,
      "outputs": []
    },
    {
      "cell_type": "code",
      "metadata": {
        "id": "j3UEVA_lLT0k",
        "outputId": "32f52755-fdcb-488f-eaff-4d0bbff997f3",
        "colab": {
          "base_uri": "https://localhost:8080/",
          "height": 51
        }
      },
      "source": [
        "%tensorflow_version 1.x\n",
        "%matplotlib inline\n",
        "\n",
        "# GPU\n",
        "import tensorflow as tf\n",
        "device_name = tf.test.gpu_device_name()\n",
        "if device_name != '/device:GPU:0':\n",
        "  raise SystemError('GPU device not found')\n",
        "print('Found GPU at: {}'.format(device_name))\n",
        "\n",
        "# Keras\n",
        "from keras.layers import Activation, BatchNormalization, Dense, Dropout, Flatten, Reshape\n",
        "from keras.layers.convolutional import Conv2D, Conv2DTranspose\n",
        "from keras.layers import Input, Dense, Reshape, Flatten, Dropout\n",
        "from keras.layers import BatchNormalization, Activation, ZeroPadding2D\n",
        "from keras.layers.advanced_activations import LeakyReLU\n",
        "from keras.layers.convolutional import UpSampling2D, Conv2D\n",
        "from keras.models import Sequential, Model\n",
        "from keras.optimizers import Adam\n",
        "\n",
        "# Bibliotecas de ajuda\n",
        "import matplotlib.pyplot as plt\n",
        "import matplotlib.cm as cm\n",
        "\n",
        "import numpy as np\n",
        "\n",
        "from __future__ import print_function, division\n",
        "\n",
        "\n",
        "from PIL import Image \n",
        "import glob\n",
        "import cv2\n",
        "\n",
        "from datetime import datetime, date, time\n",
        "\n",
        "import sys"
      ],
      "execution_count": null,
      "outputs": [
        {
          "output_type": "stream",
          "text": [
            "Found GPU at: /device:GPU:0\n"
          ],
          "name": "stdout"
        },
        {
          "output_type": "stream",
          "text": [
            "Using TensorFlow backend.\n"
          ],
          "name": "stderr"
        }
      ]
    },
    {
      "cell_type": "markdown",
      "metadata": {
        "id": "O5ylNMuaPI_c"
      },
      "source": [
        "## Importando o conjunto de dados\n",
        "Agora precisamos importar o conjunto de imagens (Dados Reais) e guardá-lo em um Array (vetor/matriz) para podermos preprocessá-las."
      ]
    },
    {
      "cell_type": "code",
      "metadata": {
        "id": "bv9uWyLAUN-8"
      },
      "source": [
        "# Linhas e Colunas de pixels\n",
        "row = 78\n",
        "col = 108\n",
        "\n",
        "# Contador\n",
        "cont = 0\n",
        "\n",
        "# Imagens das partituras\n",
        "part_tr = []\n",
        "\n",
        "for arquivo in glob.glob('/content/gdrive/My Drive/IC/SatsGAN/satsResized/*.png'):  \n",
        "    im = cv2.imread(arquivo, cv2.IMREAD_COLOR)\n",
        "#    part_tr.append(im)\n",
        "#    cont += 1\n",
        "    if im.shape[0] == row and im.shape[1] == col:\n",
        "        im = cv2.cvtColor(im, cv2.COLOR_BGR2RGB)\n",
        "        part_tr.append(im)\n",
        "    cont += 1"
      ],
      "execution_count": null,
      "outputs": []
    },
    {
      "cell_type": "code",
      "metadata": {
        "id": "UIHkqg8e27bs",
        "outputId": "f3a13f7f-562a-41c3-93f7-13384e13dc3e",
        "colab": {
          "base_uri": "https://localhost:8080/",
          "height": 34
        }
      },
      "source": [
        "np.array(part_tr).shape"
      ],
      "execution_count": null,
      "outputs": [
        {
          "output_type": "execute_result",
          "data": {
            "text/plain": [
              "(732, 78, 108, 3)"
            ]
          },
          "metadata": {
            "tags": []
          },
          "execution_count": 4
        }
      ]
    },
    {
      "cell_type": "markdown",
      "metadata": {
        "id": "Tp66XXXUTxks"
      },
      "source": [
        "## Preprocessamento\n",
        "Nessa etapa, nós vamos normalizar as imagens, para que os pixels, na escala de cinza, estejam todos no intervalo de [-1, 1], para facilitar a manipulação delas mais a frente, com as Redes.\n"
      ]
    },
    {
      "cell_type": "code",
      "metadata": {
        "id": "uBTToicNTjo2",
        "outputId": "48b9a239-f753-4cb5-909e-2e60822f71b6",
        "colab": {
          "base_uri": "https://localhost:8080/",
          "height": 34
        }
      },
      "source": [
        "X_tr = np.array(part_tr)\n",
        "\n",
        "X_tr = X_tr / 127.5 - 1.\n",
        "\n",
        "print(X_tr.shape)"
      ],
      "execution_count": null,
      "outputs": [
        {
          "output_type": "stream",
          "text": [
            "(732, 78, 108, 3)\n"
          ],
          "name": "stdout"
        }
      ]
    },
    {
      "cell_type": "markdown",
      "metadata": {
        "id": "GsNY4TfW0bLz"
      },
      "source": [
        "## Dimensões"
      ]
    },
    {
      "cell_type": "code",
      "metadata": {
        "id": "F2ci9TgF0h3S",
        "outputId": "7d256fef-22b6-464f-eb7e-f878f3fe9b96",
        "colab": {
          "base_uri": "https://localhost:8080/",
          "height": 34
        }
      },
      "source": [
        "img_rows = row\n",
        "img_cols = col\n",
        "channels = 3\n",
        "\n",
        "img_shape = (img_rows, img_cols, channels)\n",
        "\n",
        "# Tamanho do vetor de ruído\n",
        "z_dim = 100\n",
        "\n",
        "X_train = X_tr\n",
        "print(X_train.shape, [img_rows, img_cols])"
      ],
      "execution_count": null,
      "outputs": [
        {
          "output_type": "stream",
          "text": [
            "(732, 78, 108, 3) [78, 108]\n"
          ],
          "name": "stdout"
        }
      ]
    },
    {
      "cell_type": "code",
      "metadata": {
        "id": "tWtqnkDKtbqg",
        "outputId": "773d7c8c-9406-498f-897e-5b1a30dd7b41",
        "colab": {
          "base_uri": "https://localhost:8080/",
          "height": 265
        }
      },
      "source": [
        "plt.axis('off')\n",
        "plt.imshow(part_tr[545])"
      ],
      "execution_count": null,
      "outputs": [
        {
          "output_type": "execute_result",
          "data": {
            "text/plain": [
              "<matplotlib.image.AxesImage at 0x7f3b5647c630>"
            ]
          },
          "metadata": {
            "tags": []
          },
          "execution_count": 8
        },
        {
          "output_type": "display_data",
          "data": {
            "image/png": "[encoded data removed]",
            "text/plain": [
              "<Figure size 432x288 with 1 Axes>"
            ]
          },
          "metadata": {
            "tags": []
          }
        }
      ]
    },
    {
      "cell_type": "markdown",
      "metadata": {
        "id": "ubuFgP5qT-nO"
      },
      "source": [
        "## GAN Simples"
      ]
    },
    {
      "cell_type": "markdown",
      "metadata": {
        "id": "3dVk42iH07ya"
      },
      "source": [
        "### Gerador"
      ]
    },
    {
      "cell_type": "code",
      "metadata": {
        "id": "SfisUel20_tK"
      },
      "source": [
        "def build_generator(img_shape, z_dim):\n",
        "    model = Sequential()\n",
        "    \n",
        "    # Fully connected layer\n",
        "    model.add(Dense(256, input_dim=z_dim))\n",
        "    \n",
        "    # Activation\n",
        "    model.add(LeakyReLU(alpha=0.2))\n",
        "    \n",
        "    # Normalization\n",
        "    model.add(BatchNormalization(momentum=0.8))\n",
        "\n",
        "    model.add(Dense(512))\n",
        "    model.add(LeakyReLU(alpha=0.2))\n",
        "    model.add(BatchNormalization(momentum=0.8))\n",
        "\n",
        "    model.add(Dense(1024))\n",
        "    model.add(LeakyReLU(alpha=0.2))\n",
        "    model.add(BatchNormalization(momentum=0.8))\n",
        "    \n",
        "    # Output layer\n",
        "    model.add(Dense(img_rows * img_cols * channels, activation='tanh'))\n",
        "    \n",
        "    # Reshape the generator output to image dimensions\n",
        "    model.add(Reshape(img_shape))\n",
        "\n",
        "    model.summary()\n",
        "    \n",
        "    return model"
      ],
      "execution_count": null,
      "outputs": []
    },
    {
      "cell_type": "markdown",
      "metadata": {
        "id": "KyqDyp6Q1DUp"
      },
      "source": [
        "### Discriminador"
      ]
    },
    {
      "cell_type": "code",
      "metadata": {
        "id": "5dOzmGMv1Ffd"
      },
      "source": [
        "def build_discriminator(img_shape):\n",
        "    model = Sequential()\n",
        "    \n",
        "    # input image\n",
        "    model.add(Flatten(input_shape=img_shape))\n",
        "    \n",
        "    model.add(Dense(256))\n",
        "    \n",
        "    # Activation\n",
        "    model.add(LeakyReLU(alpha=0.2))\n",
        "    \n",
        "    model.add(Dense(128))\n",
        "    model.add(LeakyReLU(alpha=0.2))\n",
        "    \n",
        "    model.add(Dense(64))\n",
        "    model.add(LeakyReLU(alpha=0.2))\n",
        "\n",
        "    # Output layer\n",
        "    model.add(Dense(1, activation='sigmoid'))\n",
        "    model.summary()\n",
        "    \n",
        "    return model"
      ],
      "execution_count": null,
      "outputs": []
    },
    {
      "cell_type": "markdown",
      "metadata": {
        "id": "bjngh5s41HrI"
      },
      "source": [
        "### Construir e Compilar o Modelo"
      ]
    },
    {
      "cell_type": "code",
      "metadata": {
        "id": "CskeuX_Q1LBP"
      },
      "source": [
        "def build_gan(generator, discriminator):\n",
        "    \n",
        "    model = Sequential()\n",
        "    \n",
        "    # Combined Generator <-> Discriminator\n",
        "    model.add(generator)\n",
        "    model.add(discriminator)\n",
        "    \n",
        "    return model"
      ],
      "execution_count": null,
      "outputs": []
    },
    {
      "cell_type": "code",
      "metadata": {
        "id": "JhWNomRY1Nrm",
        "outputId": "93f7e6e3-2783-490e-a1b8-769dd38fdf63",
        "colab": {
          "base_uri": "https://localhost:8080/",
          "height": 935
        }
      },
      "source": [
        "# Discriminator\n",
        "discriminator = build_discriminator(img_shape)\n",
        "discriminator.compile(loss='binary_crossentropy',\n",
        "                      optimizer=Adam(),\n",
        "                      metrics=['accuracy'])\n",
        "\n",
        "# Generator\n",
        "generator = build_generator(img_shape, z_dim)\n",
        "\n",
        "# Keeps discriminator's parameters constant for generator training\n",
        "discriminator.trainable = False\n",
        "\n",
        "# Build and compile\n",
        "gan = build_gan(generator, discriminator)\n",
        "gan.compile(loss='binary_crossentropy', optimizer=Adam())"
      ],
      "execution_count": null,
      "outputs": [
        {
          "output_type": "stream",
          "text": [
            "Model: \"sequential_7\"\n",
            "_________________________________________________________________\n",
            "Layer (type)                 Output Shape              Param #   \n",
            "=================================================================\n",
            "flatten_3 (Flatten)          (None, 25272)             0         \n",
            "_________________________________________________________________\n",
            "dense_5 (Dense)              (None, 256)               6469888   \n",
            "_________________________________________________________________\n",
            "leaky_re_lu_11 (LeakyReLU)   (None, 256)               0         \n",
            "_________________________________________________________________\n",
            "dense_6 (Dense)              (None, 128)               32896     \n",
            "_________________________________________________________________\n",
            "leaky_re_lu_12 (LeakyReLU)   (None, 128)               0         \n",
            "_________________________________________________________________\n",
            "dense_7 (Dense)              (None, 64)                8256      \n",
            "_________________________________________________________________\n",
            "leaky_re_lu_13 (LeakyReLU)   (None, 64)                0         \n",
            "_________________________________________________________________\n",
            "dense_8 (Dense)              (None, 1)                 65        \n",
            "=================================================================\n",
            "Total params: 6,511,105\n",
            "Trainable params: 6,511,105\n",
            "Non-trainable params: 0\n",
            "_________________________________________________________________\n",
            "Model: \"sequential_8\"\n",
            "_________________________________________________________________\n",
            "Layer (type)                 Output Shape              Param #   \n",
            "=================================================================\n",
            "dense_9 (Dense)              (None, 256)               25856     \n",
            "_________________________________________________________________\n",
            "leaky_re_lu_14 (LeakyReLU)   (None, 256)               0         \n",
            "_________________________________________________________________\n",
            "batch_normalization_9 (Batch (None, 256)               1024      \n",
            "_________________________________________________________________\n",
            "dense_10 (Dense)             (None, 512)               131584    \n",
            "_________________________________________________________________\n",
            "leaky_re_lu_15 (LeakyReLU)   (None, 512)               0         \n",
            "_________________________________________________________________\n",
            "batch_normalization_10 (Batc (None, 512)               2048      \n",
            "_________________________________________________________________\n",
            "dense_11 (Dense)             (None, 1024)              525312    \n",
            "_________________________________________________________________\n",
            "leaky_re_lu_16 (LeakyReLU)   (None, 1024)              0         \n",
            "_________________________________________________________________\n",
            "batch_normalization_11 (Batc (None, 1024)              4096      \n",
            "_________________________________________________________________\n",
            "dense_12 (Dense)             (None, 25272)             25903800  \n",
            "_________________________________________________________________\n",
            "reshape_3 (Reshape)          (None, 78, 108, 3)        0         \n",
            "=================================================================\n",
            "Total params: 26,593,720\n",
            "Trainable params: 26,590,136\n",
            "Non-trainable params: 3,584\n",
            "_________________________________________________________________\n"
          ],
          "name": "stdout"
        }
      ]
    },
    {
      "cell_type": "markdown",
      "metadata": {
        "id": "mRrohWXV1RvL"
      },
      "source": [
        "### Treinamento"
      ]
    },
    {
      "cell_type": "code",
      "metadata": {
        "id": "m6bf0OUA1VyN"
      },
      "source": [
        "losses = []\n",
        "accuracies = []\n",
        "iteration_checkpoints = []\n",
        "\n",
        "def train(iteractions, batch_size, sample_interval):\n",
        "    # Labels for real images\n",
        "    real = np.ones((batch_size, 1))\n",
        "    \n",
        "    # Labels for fake images\n",
        "    fake = np.zeros((batch_size, 1))\n",
        "    \n",
        "    # Get time\n",
        "    print('Start training...')\n",
        "    start_training = datetime.now()\n",
        "    \n",
        "    for iteration in range(iteractions):\n",
        "        # Train discriminator\n",
        "        idx = np.random.randint(0, X_train.shape[0], batch_size)\n",
        "        imgs = X_train[idx]\n",
        "        \n",
        "        # Generate a batch of fake images\n",
        "        z = np.random.normal(0, 1, (batch_size, z_dim))\n",
        "        gen_imgs = generator.predict(z)\n",
        "        \n",
        "        d_loss_real = discriminator.train_on_batch(imgs, real)\n",
        "        d_loss_fake = discriminator.train_on_batch(gen_imgs, fake)\n",
        "        d_loss, accuracy = 0.5 * np.add(d_loss_real, d_loss_fake)\n",
        "        \n",
        "        # Train the generator\n",
        "        z = np.random.normal(0, 1, (batch_size, z_dim))\n",
        "        gen_imgs = generator.predict(z)\n",
        "        \n",
        "        g_loss = gan.train_on_batch(z, real)\n",
        "        \n",
        "        if (iteration + 1) % sample_interval == 0 or iteration == 0:\n",
        "            losses.append((d_loss, g_loss))\n",
        "            accuracies.append(100.0 * accuracy)\n",
        "            iteration_checkpoints.append(iteration + 1)\n",
        "            now = datetime.now()\n",
        "            \n",
        "            print(\"%d [D loss: %f, acc.: %.2f%%] [G loss: %f]\" %\n",
        "                  (iteration + 1, d_loss, 100.0 * accuracy, g_loss))\n",
        "            print(f'Elapsed time: {now - start_training} - {now}')\n",
        "            \n",
        "            # Output a generated image sample\n",
        "            sample_images(generator, iteration)\n",
        "\n",
        "    now = datetime.now()\n",
        "    print(f'Total elapsed time: {now - start_training} - {now}')"
      ],
      "execution_count": null,
      "outputs": []
    },
    {
      "cell_type": "markdown",
      "metadata": {
        "id": "JagY0xB21tkv"
      },
      "source": [
        "### Display das Imagens"
      ]
    },
    {
      "cell_type": "code",
      "metadata": {
        "id": "KEKy5tdN1v5w"
      },
      "source": [
        "def sample_images(generator, iteration, image_grid_rows=4, image_grid_cols=4):\n",
        "    # Random noise\n",
        "    z = np.random.normal(0, 1, (image_grid_rows * image_grid_cols, z_dim))\n",
        "    \n",
        "    gen_imgs = generator.predict(z)\n",
        "    \n",
        "    # Rescale values to 0, 1\n",
        "    gen_imgs = 0.5 * gen_imgs + 0.5\n",
        "    \n",
        "    fig, axs = plt.subplots(image_grid_rows,\n",
        "                            image_grid_cols,\n",
        "                           figsize=(4, 4),\n",
        "                           sharey=True,\n",
        "                           sharex=True)\n",
        "    cnt = 0\n",
        "    for i in range(image_grid_rows):\n",
        "        for j in range(image_grid_cols):\n",
        "            axs[i, j].imshow(gen_imgs[cnt, :, :, 0])\n",
        "            axs[i, j].axis('off')\n",
        "            cnt += 1\n",
        "        fig.savefig(\"/content/gdrive/My Drive/IC/SatsGAN/rgbResult/%d.png\" % iteration)"
      ],
      "execution_count": null,
      "outputs": []
    },
    {
      "cell_type": "markdown",
      "metadata": {
        "id": "RSLC25kr3TF5"
      },
      "source": [
        "### Rodar o Modelo"
      ]
    },
    {
      "cell_type": "code",
      "metadata": {
        "id": "leBWK1vz3hDl"
      },
      "source": [
        "iteractions = 5000\n",
        "batch_size = 128\n",
        "sample_interval = 500\n",
        "\n",
        "# Train the GAN\n",
        "train(iteractions, batch_size, sample_interval)"
      ],
      "execution_count": null,
      "outputs": []
    },
    {
      "cell_type": "markdown",
      "metadata": {
        "id": "y2IPo04x3sNo"
      },
      "source": [
        "### Funções de Custo"
      ]
    },
    {
      "cell_type": "code",
      "metadata": {
        "id": "JkLAFR8R3wE0",
        "outputId": "6f3a4832-7f0c-485d-d6c7-1203b7781e50",
        "colab": {
          "base_uri": "https://localhost:8080/",
          "height": 382
        }
      },
      "source": [
        "losses = np.array(losses)\n",
        "\n",
        "plt.figure(figsize=(15, 5))\n",
        "plt.plot(iteration_checkpoints, losses.T[0], label=\"Discrimator loss\")\n",
        "plt.plot(iteration_checkpoints, losses.T[1], label=\"Generator loss\")\n",
        "\n",
        "plt.xticks(iteration_checkpoints, rotation=90)\n",
        "\n",
        "plt.title('Training loss')\n",
        "plt.xlabel('Iteration')\n",
        "plt.ylabel('Loss')\n",
        "plt.legend()"
      ],
      "execution_count": null,
      "outputs": [
        {
          "output_type": "execute_result",
          "data": {
            "text/plain": [
              "<matplotlib.legend.Legend at 0x7f5f64807470>"
            ]
          },
          "metadata": {
            "tags": []
          },
          "execution_count": 54
        },
        {
          "output_type": "display_data",
          "data": {
            "image/png": "[encoded data removed]",
            "text/plain": [
              "<Figure size 1080x360 with 1 Axes>"
            ]
          },
          "metadata": {
            "tags": []
          }
        }
      ]
    },
    {
      "cell_type": "markdown",
      "metadata": {
        "id": "9HHZy11c3zP8"
      },
      "source": [
        "### Acurácia"
      ]
    },
    {
      "cell_type": "code",
      "metadata": {
        "id": "SDm3ClVq31uC",
        "outputId": "78dc458c-a57b-4db0-e88a-7b15577b5b9c",
        "colab": {
          "base_uri": "https://localhost:8080/",
          "height": 382
        }
      },
      "source": [
        "accuracies = np.array(accuracies)\n",
        "\n",
        "plt.figure(figsize=(15, 5))\n",
        "plt.plot(iteration_checkpoints, accuracies, label='Discriminator accuracy')\n",
        "plt.xticks(iteration_checkpoints, rotation=90)\n",
        "plt.yticks(range(0, 100, 5))\n",
        "\n",
        "plt.title('Discrimator accuracy')\n",
        "plt.xlabel('Iteration')\n",
        "plt.ylabel('Accuracy (%)')\n",
        "plt.legend()"
      ],
      "execution_count": null,
      "outputs": [
        {
          "output_type": "execute_result",
          "data": {
            "text/plain": [
              "<matplotlib.legend.Legend at 0x7f5f647ace80>"
            ]
          },
          "metadata": {
            "tags": []
          },
          "execution_count": 55
        },
        {
          "output_type": "display_data",
          "data": {
            "image/png": "[encoded data removed]",
            "text/plain": [
              "<Figure size 1080x360 with 1 Axes>"
            ]
          },
          "metadata": {
            "tags": []
          }
        }
      ]
    },
    {
      "cell_type": "markdown",
      "metadata": {
        "id": "70MCNA8DUsNv"
      },
      "source": [
        "## GAN Convolucional"
      ]
    },
    {
      "cell_type": "markdown",
      "metadata": {
        "id": "qnDeCjPoU5tR"
      },
      "source": [
        "### Gerador"
      ]
    },
    {
      "cell_type": "code",
      "metadata": {
        "id": "f2lsqRMGU4_o"
      },
      "source": [
        "def build_generator(z_dim):\n",
        "    model = Sequential()\n",
        "    \n",
        "    model.add(Dense(256*13*18, input_dim=z_dim))\n",
        "    model.add(Reshape((13,18,256)))\n",
        "    \n",
        "    model.add(Conv2DTranspose(128, kernel_size=3, strides=2, padding='same'))\n",
        "    model.add(BatchNormalization())\n",
        "    model.add(LeakyReLU(alpha=0.01))\n",
        "    ''''''\n",
        "    model.add(Conv2DTranspose(64, kernel_size=3, strides=1, padding='same'))\n",
        "    model.add(BatchNormalization())\n",
        "    model.add(LeakyReLU(alpha=0.01))\n",
        "    \n",
        "    model.add(Conv2DTranspose(3, kernel_size=3, strides=3, padding='same'))\n",
        "    \n",
        "    model.add(Activation('tanh'))\n",
        "    \n",
        "    return model"
      ],
      "execution_count": null,
      "outputs": []
    },
    {
      "cell_type": "markdown",
      "metadata": {
        "id": "xo1d9wVHU78l"
      },
      "source": [
        "### Discriminador"
      ]
    },
    {
      "cell_type": "code",
      "metadata": {
        "id": "FvIidmGeVAA-"
      },
      "source": [
        "def build_discriminator(img_shape):\n",
        "    model = Sequential()\n",
        "    \n",
        "    model.add(Conv2D(32, kernel_size=3, strides=2, input_shape=img_shape, padding='same'))\n",
        "    model.add(LeakyReLU(alpha=0.01))\n",
        "    \n",
        "    model.add(Conv2D(64, kernel_size=3, strides=2, input_shape=img_shape, padding='same'))\n",
        "    model.add(BatchNormalization())\n",
        "    model.add(LeakyReLU(alpha=0.01))\n",
        "    \n",
        "    model.add(Conv2D(128, kernel_size=3, strides=2, input_shape=img_shape, padding='same'))\n",
        "    model.add(BatchNormalization())\n",
        "    model.add(LeakyReLU(alpha=0.01))\n",
        "    \n",
        "    model.add(Flatten())\n",
        "    model.add(Dense(1, activation='sigmoid'))\n",
        "    \n",
        "    return model"
      ],
      "execution_count": null,
      "outputs": []
    },
    {
      "cell_type": "markdown",
      "metadata": {
        "id": "mIraONRAVMxJ"
      },
      "source": [
        "### Construir e Compilar o Modelo"
      ]
    },
    {
      "cell_type": "code",
      "metadata": {
        "id": "9U5HKa-OVMWv"
      },
      "source": [
        "def build_gan(generator, discriminator):\n",
        "    model = Sequential()\n",
        "    \n",
        "    model.add(generator)\n",
        "    model.add(discriminator)\n",
        "    \n",
        "    return model"
      ],
      "execution_count": null,
      "outputs": []
    },
    {
      "cell_type": "code",
      "metadata": {
        "id": "d_lDSQ08VWlI"
      },
      "source": [
        "# Build and compile the discriminator\n",
        "discriminator = build_discriminator(img_shape)\n",
        "discriminator.compile(loss='binary_crossentropy', optimizer=Adam(), metrics=['accuracy'])\n",
        "\n",
        "# Build the generator\n",
        "generator = build_generator(z_dim)\n",
        "\n",
        "discriminator.trainable = False\n",
        "\n",
        "# Build and compile the gan\n",
        "gan = build_gan(generator, discriminator)\n",
        "gan.compile(loss='binary_crossentropy', optimizer=Adam())"
      ],
      "execution_count": null,
      "outputs": []
    },
    {
      "cell_type": "code",
      "metadata": {
        "id": "ZibM1xV5VXH1",
        "outputId": "c995aa6f-81d0-42f6-cd14-8812a56517e3",
        "colab": {
          "base_uri": "https://localhost:8080/",
          "height": 34
        }
      },
      "source": [
        "idx = np.random.randint(0, X_train.shape[0], 128)\n",
        "imgs = X_train[idx]\n",
        "z = np.random.normal(0, 1, (128, z_dim))\n",
        "gen_imgs = generator.predict(z)\n",
        "print(gen_imgs.shape)"
      ],
      "execution_count": null,
      "outputs": [
        {
          "output_type": "stream",
          "text": [
            "(128, 78, 108, 3)\n"
          ],
          "name": "stdout"
        }
      ]
    },
    {
      "cell_type": "markdown",
      "metadata": {
        "id": "KQ7XrLRyVRUy"
      },
      "source": [
        "### Treinamento"
      ]
    },
    {
      "cell_type": "code",
      "metadata": {
        "id": "Grok1AYKVR46"
      },
      "source": [
        "losses = []\n",
        "accuracies = []\n",
        "iteration_checkpoints = []\n",
        "\n",
        "def train(iterations, batch_size, sample_interval):\n",
        "    # Labels for real and fake images\n",
        "    real = np.ones((batch_size, 1))\n",
        "    fake = np.zeros((batch_size, 1))\n",
        "    \n",
        "    print('Start training...')\n",
        "    training_start_time = datetime.now()\n",
        "    for iteration in range(iterations):\n",
        "        # Get a random sample from training dataset\n",
        "        idx = np.random.randint(0, X_train.shape[0], batch_size)\n",
        "        imgs = X_train[idx]\n",
        "        # Create the random input to train the discriminator\n",
        "        z = np.random.normal(0, 1, (batch_size, z_dim))\n",
        "        # and passes to the generator\n",
        "        gen_imgs = generator.predict(z)\n",
        "        \n",
        "        # Train the discriminator\n",
        "        d_loss_real = discriminator.train_on_batch(imgs, real)\n",
        "        d_loss_fake = discriminator.train_on_batch(gen_imgs, fake)\n",
        "        d_loss, accuracy = 0.5 * np.add(d_loss_real, d_loss_fake)\n",
        "        \n",
        "        # Create new random input for the generator\n",
        "        z = np.random.normal(0, 1, (batch_size, z_dim))\n",
        "        gen_imgs = generator.predict(z)\n",
        "        \n",
        "        # Train the generator\n",
        "        g_loss = gan.train_on_batch(z, real)\n",
        "        \n",
        "        if (iteration + 1) % sample_interval == 0 or iteration == 0:\n",
        "            now = datetime.now()\n",
        "            print(f'Elapsed time since start: {now - training_start_time} - {now}')\n",
        "            losses.append((d_loss, g_loss))\n",
        "            accuracies.append(100.0 * accuracy)\n",
        "            iteration_checkpoints.append(iteration + 1)\n",
        "            print(f\"{iteration+1} [D loss: {d_loss}, acc: {100.0 * accuracy}%] [G loss]: {g_loss}\")\n",
        "            sample_images(generator, iteration)\n",
        "\n",
        "    now = datetime.now()\n",
        "    print(f'Total training time: {now - training_start_time} - {now}')"
      ],
      "execution_count": null,
      "outputs": []
    },
    {
      "cell_type": "markdown",
      "metadata": {
        "id": "aB_CoW32VhOs"
      },
      "source": [
        "### Display das Imagens"
      ]
    },
    {
      "cell_type": "code",
      "metadata": {
        "id": "6gVGQSEWVjcd"
      },
      "source": [
        "def sample_images(generator, iteration, image_grid_rows=4, image_grid_cols=4):\n",
        "    # Random noise\n",
        "    z = np.random.normal(0, 1, (image_grid_rows * image_grid_cols, z_dim))\n",
        "    \n",
        "    gen_imgs = generator.predict(z)\n",
        "    \n",
        "    # Rescale values to 0, 1\n",
        "    gen_imgs = 0.5 * gen_imgs + 0.5\n",
        "    \n",
        "    fig, axs = plt.subplots(image_grid_rows,\n",
        "                            image_grid_cols,\n",
        "                           figsize=(4, 4),\n",
        "                           sharey=True,\n",
        "                           sharex=True)\n",
        "    cnt = 0\n",
        "    for i in range(image_grid_rows):\n",
        "        for j in range(image_grid_cols):\n",
        "            axs[i, j].imshow(gen_imgs[cnt, :, :, 0])\n",
        "            axs[i, j].axis('off')\n",
        "            cnt += 1\n",
        "    fig.savefig(\"/content/gdrive/My Drive/IC/SatsGAN/rgbResult/%d.png\" % iteration)"
      ],
      "execution_count": null,
      "outputs": []
    },
    {
      "cell_type": "markdown",
      "metadata": {
        "id": "U50u7beuVl8p"
      },
      "source": [
        "### Rodar o Modelo"
      ]
    },
    {
      "cell_type": "code",
      "metadata": {
        "id": "1rjuS-eXVnTO"
      },
      "source": [
        "iterations = 50000\n",
        "batch_size = 128\n",
        "sample_interval = 1000"
      ],
      "execution_count": null,
      "outputs": []
    },
    {
      "cell_type": "code",
      "metadata": {
        "id": "qqc2UqV9Vnwr"
      },
      "source": [
        "train(iterations, batch_size, sample_interval)"
      ],
      "execution_count": null,
      "outputs": []
    },
    {
      "cell_type": "markdown",
      "metadata": {
        "id": "22NHCKXkV0zd"
      },
      "source": [
        "### Funções de Custo"
      ]
    },
    {
      "cell_type": "code",
      "metadata": {
        "id": "iH9Vltm0VwDb",
        "outputId": "4462a2a5-c121-438d-9a7a-c29c59879bb6",
        "colab": {
          "base_uri": "https://localhost:8080/",
          "height": 388
        }
      },
      "source": [
        "losses = np.array(losses)\n",
        "\n",
        "# Plot training losses for Discriminator and Generator\n",
        "#plt.style.use('dark_background')\n",
        "plt.figure(figsize=(15, 5))\n",
        "plt.plot(iteration_checkpoints, losses.T[0], label=\"Discriminator loss\")\n",
        "plt.plot(iteration_checkpoints, losses.T[1], label=\"Generator loss\")\n",
        "\n",
        "plt.xticks(iteration_checkpoints, rotation=90)\n",
        "\n",
        "plt.title(\"Training Loss\")\n",
        "plt.xlabel(\"Iteration\")\n",
        "plt.ylabel(\"Loss\")\n",
        "plt.legend()"
      ],
      "execution_count": null,
      "outputs": [
        {
          "output_type": "execute_result",
          "data": {
            "text/plain": [
              "<matplotlib.legend.Legend at 0x7f453f14a588>"
            ]
          },
          "metadata": {
            "tags": []
          },
          "execution_count": 25
        },
        {
          "output_type": "display_data",
          "data": {
            "image/png": "[encoded data removed]",
            "text/plain": [
              "<Figure size 1080x360 with 1 Axes>"
            ]
          },
          "metadata": {
            "tags": []
          }
        }
      ]
    },
    {
      "cell_type": "markdown",
      "metadata": {
        "id": "hOTwWaeOV36i"
      },
      "source": [
        "### Acurácia"
      ]
    },
    {
      "cell_type": "code",
      "metadata": {
        "id": "vK4Cr5XWVwkY",
        "outputId": "88b4d807-eace-45e1-c2e3-ad62a520682f",
        "colab": {
          "base_uri": "https://localhost:8080/",
          "height": 388
        }
      },
      "source": [
        "accuracies = np.array(accuracies)\n",
        "\n",
        "# Plot Discriminator accuracy\n",
        "plt.figure(figsize=(15, 5))\n",
        "plt.plot(iteration_checkpoints, accuracies, label=\"Discriminator accuracy\")\n",
        "\n",
        "plt.xticks(iteration_checkpoints, rotation=90)\n",
        "plt.yticks(range(0, 100, 5))\n",
        "\n",
        "plt.title(\"Discriminator Accuracy\")\n",
        "plt.xlabel(\"Iteration\")\n",
        "plt.ylabel(\"Accuracy (%)\")\n",
        "plt.legend()"
      ],
      "execution_count": null,
      "outputs": [
        {
          "output_type": "execute_result",
          "data": {
            "text/plain": [
              "<matplotlib.legend.Legend at 0x7f453f0692b0>"
            ]
          },
          "metadata": {
            "tags": []
          },
          "execution_count": 26
        },
        {
          "output_type": "display_data",
          "data": {
            "image/png": "[encoded data removed]",
            "text/plain": [
              "<Figure size 1080x360 with 1 Axes>"
            ]
          },
          "metadata": {
            "tags": []
          }
        }
      ]
    }
  ]
}